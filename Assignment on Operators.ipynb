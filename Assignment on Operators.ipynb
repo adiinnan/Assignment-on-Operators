{
  "nbformat": 4,
  "nbformat_minor": 0,
  "metadata": {
    "colab": {
      "provenance": []
    },
    "kernelspec": {
      "name": "python3",
      "display_name": "Python 3"
    },
    "language_info": {
      "name": "python"
    }
  },
  "cells": [
    {
      "cell_type": "code",
      "execution_count": null,
      "metadata": {
        "colab": {
          "base_uri": "https://localhost:8080/"
        },
        "id": "QSMDwvlY1Lf4",
        "outputId": "f78e4895-97e3-4d78-ee7c-55ae2c084c5b"
      },
      "outputs": [
        {
          "output_type": "stream",
          "name": "stdout",
          "text": [
            "The area of the circle is 78.5\n"
          ]
        }
      ],
      "source": [
        "radius = 5\n",
        "pi = 3.14\n",
        "area = pi * radius ** 2\n",
        "print(\"The area of the circle is\", area)\n"
      ]
    },
    {
      "cell_type": "code",
      "source": [
        "celsius = 37\n",
        "fahrenheit = (celsius * 9/5) + 32\n",
        "print(\"The Fahrenheit temperature is\", fahrenheit)\n"
      ],
      "metadata": {
        "colab": {
          "base_uri": "https://localhost:8080/"
        },
        "id": "Ukzn7TmS1eap",
        "outputId": "b4f3db34-3407-4dc1-fef2-6af2e2a81d16"
      },
      "execution_count": null,
      "outputs": [
        {
          "output_type": "stream",
          "name": "stdout",
          "text": [
            "The Fahrenheit temperature is 98.6\n"
          ]
        }
      ]
    },
    {
      "cell_type": "code",
      "source": [
        "dividend = 10\n",
        "divisor = 3\n",
        "quotient = dividend / divisor\n",
        "remainder = dividend % divisor\n",
        "print(\"The quotient is\", quotient)\n",
        "print(\"The remainder is\", remainder)\n"
      ],
      "metadata": {
        "colab": {
          "base_uri": "https://localhost:8080/"
        },
        "id": "3jSY0Tet1qCC",
        "outputId": "994b6397-2b2c-4b4b-87ec-94c0edef19c1"
      },
      "execution_count": null,
      "outputs": [
        {
          "output_type": "stream",
          "name": "stdout",
          "text": [
            "The quotient is 3.3333333333333335\n",
            "The remainder is 1\n"
          ]
        }
      ]
    },
    {
      "cell_type": "code",
      "source": [
        "number = 10\n",
        "if number % 2 == 0:\n",
        "  print(\"The number is even.\")\n",
        "else:\n",
        "  print(\"The number is odd.\")\n"
      ],
      "metadata": {
        "colab": {
          "base_uri": "https://localhost:8080/"
        },
        "id": "94ZvHH-U1yEQ",
        "outputId": "267f689e-f1db-47f1-9f43-0446dffd5810"
      },
      "execution_count": null,
      "outputs": [
        {
          "output_type": "stream",
          "name": "stdout",
          "text": [
            "The number is even.\n"
          ]
        }
      ]
    },
    {
      "cell_type": "code",
      "source": [
        "\n",
        "num1 = 10\n",
        "num2 = 20\n",
        "num3 = 30\n",
        "average = (num1 + num2 + num3) / 3\n",
        "print(\"The average of the three numbers is\", average)\n"
      ],
      "metadata": {
        "colab": {
          "base_uri": "https://localhost:8080/"
        },
        "id": "CQ4fVqyn13LD",
        "outputId": "6190cfa0-5057-407a-ebef-bb2ed5b8f104"
      },
      "execution_count": null,
      "outputs": [
        {
          "output_type": "stream",
          "name": "stdout",
          "text": [
            "The average of the three numbers is 20.0\n"
          ]
        }
      ]
    },
    {
      "cell_type": "code",
      "source": [
        "\n",
        "x = 10\n",
        "y = 20\n",
        "x = x ^ y\n",
        "y = x ^ y\n",
        "x = x ^ y\n",
        "print(\"The value of x is\", x)\n",
        "print(\"The value of y is\", y)\n"
      ],
      "metadata": {
        "colab": {
          "base_uri": "https://localhost:8080/"
        },
        "id": "hosMbTE-1-NO",
        "outputId": "ca5c6668-ab73-41a9-d428-c6e4d27c27b7"
      },
      "execution_count": null,
      "outputs": [
        {
          "output_type": "stream",
          "name": "stdout",
          "text": [
            "The value of x is 20\n",
            "The value of y is 10\n"
          ]
        }
      ]
    },
    {
      "cell_type": "code",
      "source": [
        "\n",
        "length = 10\n",
        "breadth = 5\n",
        "area = length * breadth\n",
        "print(\"The area of the rectangle is\", area)\n"
      ],
      "metadata": {
        "colab": {
          "base_uri": "https://localhost:8080/"
        },
        "id": "7n-S73ZE2FnA",
        "outputId": "4d1a9e74-6404-4837-f63d-cdacbefc47b1"
      },
      "execution_count": null,
      "outputs": [
        {
          "output_type": "stream",
          "name": "stdout",
          "text": [
            "The area of the rectangle is 50\n"
          ]
        }
      ]
    },
    {
      "cell_type": "code",
      "source": [
        "\n",
        "number = 123\n",
        "sum_of_digits = number // 100 + (number % 100) // 10 + number % 10\n",
        "print(\"The sum of the digits of the number is\", sum_of_digits)\n"
      ],
      "metadata": {
        "colab": {
          "base_uri": "https://localhost:8080/"
        },
        "id": "AKTzlWhk2TnN",
        "outputId": "cc1b4cc1-fa0d-4860-87f4-16d1372818ae"
      },
      "execution_count": null,
      "outputs": [
        {
          "output_type": "stream",
          "name": "stdout",
          "text": [
            "The sum of the digits of the number is 6\n"
          ]
        }
      ]
    },
    {
      "cell_type": "code",
      "source": [
        "\n",
        "year = 2020\n",
        "if year % 4 == 0:\n",
        "  if year % 100 == 0:\n",
        "    if year % 400 == 0:\n",
        "      print(\"The year is a leap year.\")\n",
        "    else:\n",
        "      print(\"The year is not a leap year.\")\n",
        "  else:\n",
        "    print(\"The year is a leap year.\")\n",
        "else:\n",
        "  print(\"The year is not a leap year.\")\n"
      ],
      "metadata": {
        "colab": {
          "base_uri": "https://localhost:8080/"
        },
        "id": "sy936t-M2ayQ",
        "outputId": "ef8b17cc-19df-476b-93af-932b0d03d004"
      },
      "execution_count": null,
      "outputs": [
        {
          "output_type": "stream",
          "name": "stdout",
          "text": [
            "The year is a leap year.\n"
          ]
        }
      ]
    },
    {
      "cell_type": "code",
      "source": [
        "\n",
        "num1 = float(input(\"Enter the first number: \"))\n",
        "num2 = float(input(\"Enter the second number: \"))\n",
        "if num1 > num2:\n",
        "  max_num = num1\n",
        "else:\n",
        "  max_num = num2\n",
        "if num1 < num2:\n",
        "  min_num = num1\n",
        "else:\n",
        "  min_num = num2\n",
        "print(\"The maximum of the two numbers is\", max_num)\n",
        "print(\"The minimum of the two numbers is\", min_num)\n"
      ],
      "metadata": {
        "colab": {
          "base_uri": "https://localhost:8080/"
        },
        "id": "vvIZ3fxB2e2i",
        "outputId": "06a91420-17a0-4716-9904-de422a4d173e"
      },
      "execution_count": null,
      "outputs": [
        {
          "output_type": "stream",
          "name": "stdout",
          "text": [
            "Enter the first number: 10\n",
            "Enter the second number: 5\n",
            "The maximum of the two numbers is 10.0\n",
            "The minimum of the two numbers is 5.0\n"
          ]
        }
      ]
    },
    {
      "cell_type": "code",
      "source": [],
      "metadata": {
        "id": "YTRHJkXK2s4Z"
      },
      "execution_count": null,
      "outputs": []
    }
  ]
}